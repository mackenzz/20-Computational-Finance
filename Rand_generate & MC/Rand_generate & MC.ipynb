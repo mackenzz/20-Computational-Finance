{
 "cells": [
  {
   "cell_type": "code",
   "execution_count": 3,
   "metadata": {},
   "outputs": [],
   "source": [
    "import numpy as np \n",
    "import math\n",
    "import scipy.stats\n",
    "import matplotlib.pyplot as plt"
   ]
  },
  {
   "cell_type": "markdown",
   "metadata": {},
   "source": [
    "## Question2"
   ]
  },
  {
   "cell_type": "code",
   "execution_count": 4,
   "metadata": {},
   "outputs": [],
   "source": [
    "theta = 0.9\n",
    "Lambda = 0.25\n",
    "mu = 0.5\n",
    "n = 100_000\n",
    "u = np.random.uniform(0, 1, n) \n",
    "v = np.random.uniform(0, 1, n)\n",
    "\n",
    "def inverse_Fx(u):\n",
    "    return -np.log(1-u) / Lambda\n",
    "def inverse_Fyx(v, x):\n",
    "    a = theta * (2 * np.exp(-Lambda*x) - 1)\n",
    "    numerator = (a-1) + np.sqrt((1-a)**2+4*a*(1-v)) \n",
    "    return -np.log(numerator/(2*a)) / mu\n",
    "x = inverse_Fx(u)\n",
    "y = inverse_Fyx(v, x)"
   ]
  },
  {
   "cell_type": "code",
   "execution_count": 5,
   "metadata": {},
   "outputs": [
    {
     "data": {
      "text/plain": [
       "0.2256272464313669"
      ]
     },
     "execution_count": 5,
     "metadata": {},
     "output_type": "execute_result"
    }
   ],
   "source": [
    "np.corrcoef(x, y)[0][1]"
   ]
  },
  {
   "cell_type": "markdown",
   "metadata": {},
   "source": [
    "## Question3 --Acceptance-rejection Sampling"
   ]
  },
  {
   "cell_type": "code",
   "execution_count": 6,
   "metadata": {},
   "outputs": [],
   "source": [
    "# Params initiate\n",
    "A = 1\n",
    "B = 1 / (np.sqrt(2*math.pi) * (1 - scipy.stats.norm.cdf(A))) \n",
    "C = B * np.exp((-1/2) * (A ** 2))\n",
    "n = 1000\n",
    "x = np.zeros(n)\n",
    "def fX(x):\n",
    "    return B * np.exp(-(x**2) / 2) \n",
    "def fY(y):\n",
    "    return np.exp(-A * (y-A))"
   ]
  },
  {
   "cell_type": "code",
   "execution_count": 7,
   "metadata": {},
   "outputs": [],
   "source": [
    "# acceptance-rejection sampling\n",
    "i = 0\n",
    "while i < n:\n",
    "    u = np.random.uniform(0, 1)\n",
    "    v = np.random.uniform(0, 1)\n",
    "    z = -np.log(1-u)\n",
    "    y = A + z / A\n",
    "    if v <= fX(y) / (C * fY(y)):\n",
    "        x[i] = y \n",
    "        i += 1"
   ]
  },
  {
   "cell_type": "code",
   "execution_count": 8,
   "metadata": {},
   "outputs": [
    {
     "data": {
      "image/png": "[encoded data removed]",
      "text/plain": [
       "<Figure size 432x288 with 1 Axes>"
      ]
     },
     "metadata": {
      "needs_background": "light"
     },
     "output_type": "display_data"
    }
   ],
   "source": [
    "x_range = np.arange(1, 4, 0.1)\n",
    "dense = B * np.exp(- (x_range**2) / 2) \n",
    "plt.plot(x_range, dense, color='b')\n",
    "plt.hist(x, bins=50, density=True)\n",
    "plt.xlim(1,4)\n",
    "plt.ylim(0,1.7)\n",
    "plt.title('Histogram of X')\n",
    "plt.grid()"
   ]
  },
  {
   "cell_type": "markdown",
   "metadata": {},
   "source": [
    "## Question4 --Heston model\n",
    "### Question4. (c) --Euler discretization of the SDE"
   ]
  },
  {
   "cell_type": "code",
   "execution_count": 9,
   "metadata": {},
   "outputs": [],
   "source": [
    "# Params initiate\n",
    "r = 0.01\n",
    "theta = 0.08\n",
    "k = 2\n",
    "beta = 0.2\n",
    "rho = -0.7\n",
    "Y0, S0 = 0.04, 50\n",
    "T = 0.25\n",
    "dt = (1/360) * (1/3)\n",
    "M = int(0.25 / dt)"
   ]
  },
  {
   "cell_type": "code",
   "execution_count": 10,
   "metadata": {},
   "outputs": [],
   "source": [
    "# Euler discretization\n",
    "Y = np.zeros((10000, int(T / dt+1)))\n",
    "S = np.zeros((10000, int(T / dt+1)))\n",
    "Y[:, 0] = 0.04\n",
    "S[:, 0] = 50\n",
    "\n",
    "ζ = np.random.normal(0, 1, (10000, int(T / dt+1)))  # params: loc, scale, size\n",
    "η = np.random.normal(0, 1, (10000, int(T / dt+1)))\n",
    "for m in range(1, int(T / dt+1)):\n",
    "    S[:, m] = S[:, m-1] * (r*dt + np.sqrt(Y[:, m-1]) * \\\n",
    "                           np.sqrt(dt) * ζ[:, m-1]) + S[:, m-1]\n",
    "    Y[:, m] = (theta - k * Y[:, m-1]) * dt + beta * np.sqrt(Y[:, m-1]) * \\\n",
    "                                    np.sqrt(dt)*(rho * ζ[:, m-1] + \\\n",
    "                                    np.sqrt(1-rho**2) * η[:, m-1]) + Y[:, m-1]"
   ]
  },
  {
   "cell_type": "code",
   "execution_count": 11,
   "metadata": {},
   "outputs": [
    {
     "data": {
      "image/png": "[encoded data removed]",
      "text/plain": [
       "<Figure size 432x288 with 1 Axes>"
      ]
     },
     "metadata": {
      "needs_background": "light"
     },
     "output_type": "display_data"
    }
   ],
   "source": [
    "# Histogram of Y_0.25\n",
    "plt.hist(Y[:, M], bins=50)\n",
    "plt.title('Terminal time Y_0.25')\n",
    "plt.grid()"
   ]
  },
  {
   "cell_type": "code",
   "execution_count": 12,
   "metadata": {},
   "outputs": [
    {
     "data": {
      "image/png": "[encoded data removed]",
      "text/plain": [
       "<Figure size 432x288 with 1 Axes>"
      ]
     },
     "metadata": {
      "needs_background": "light"
     },
     "output_type": "display_data"
    }
   ],
   "source": [
    "# Histogram of S_0.25\n",
    "plt.hist(S[:, M], bins=50)\n",
    "plt.title('Terminal time S_0.25')\n",
    "plt.grid()"
   ]
  },
  {
   "cell_type": "markdown",
   "metadata": {},
   "source": [
    "### Question4. (d) --Monte Carlo estimates of E(S_0.25) & E(Y_0.25)"
   ]
  },
  {
   "cell_type": "code",
   "execution_count": 13,
   "metadata": {},
   "outputs": [
    {
     "name": "stdout",
     "output_type": "stream",
     "text": [
      "The mean of S converges to 50.10319105375662\n",
      "The mean of T converges to 0.040086799459003\n",
      "The std of S converges to 4.936491254286175\n",
      "The std of Y converges to 0.01603692375938775\n"
     ]
    }
   ],
   "source": [
    "times = 10_000\n",
    "E_S = np.zeros(times)\n",
    "E_Y = np.zeros(times)\n",
    "std_S = np.zeros(times)\n",
    "std_Y = np.zeros(times)\n",
    "paths = np.arange(times)  # Here I use number of paths = 10,000\n",
    "\n",
    "for n in range(times):\n",
    "    E_S[n] = np.mean(S[0:n+1, M])\n",
    "    E_Y[n] = np.mean(Y[0:n+1, M])\n",
    "    std_S[n] = np.std(S[0:n+1, M])\n",
    "    std_Y[n] = np.std(Y[0:n+1, M])\n",
    "\n",
    "print('The mean of S converges to', E_S[-1])\n",
    "print('The mean of T converges to', E_Y[-1])\n",
    "print('The std of S converges to', std_S[-1])\n",
    "print('The std of Y converges to', std_Y[-1])"
   ]
  },
  {
   "cell_type": "code",
   "execution_count": 14,
   "metadata": {},
   "outputs": [
    {
     "data": {
      "text/plain": [
       "Text(0.5, 1.0, 'Estimates of E[S_0.25]')"
      ]
     },
     "execution_count": 14,
     "metadata": {},
     "output_type": "execute_result"
    },
    {
     "data": {
      "image/png": "[encoded data removed]",
      "text/plain": [
       "<Figure size 432x288 with 1 Axes>"
      ]
     },
     "metadata": {
      "needs_background": "light"
     },
     "output_type": "display_data"
    }
   ],
   "source": [
    "plt.plot(paths, E_S)\n",
    "plt.title('Estimates of E[S_0.25]')"
   ]
  },
  {
   "cell_type": "code",
   "execution_count": 15,
   "metadata": {},
   "outputs": [
    {
     "data": {
      "text/plain": [
       "Text(0.5, 1.0, 'Estimates of E[Y_0.25]')"
      ]
     },
     "execution_count": 15,
     "metadata": {},
     "output_type": "execute_result"
    },
    {
     "data": {
      "image/png": "[encoded data removed]",
      "text/plain": [
       "<Figure size 432x288 with 1 Axes>"
      ]
     },
     "metadata": {
      "needs_background": "light"
     },
     "output_type": "display_data"
    }
   ],
   "source": [
    "plt.plot(paths, E_Y)\n",
    "plt.title('Estimates of E[Y_0.25]')"
   ]
  },
  {
   "cell_type": "markdown",
   "metadata": {},
   "source": [
    "### Question4. (e) --Barrier option using Monte Carlo (95% confidence interval)"
   ]
  },
  {
   "cell_type": "code",
   "execution_count": 17,
   "metadata": {},
   "outputs": [],
   "source": [
    "N = 5000\n",
    "K = 50\n",
    "A = 80\n",
    "B = 30\n",
    "r = 0.01"
   ]
  },
  {
   "cell_type": "code",
   "execution_count": 18,
   "metadata": {},
   "outputs": [],
   "source": [
    "payoff = np.zeros(N)\n",
    "paths = np.arange(1, N+1)\n",
    "for i in range(N):\n",
    "    payoff[i] = max(S[i, M] - K, 0) \n",
    "else:\n",
    "    payoff[i] = 0"
   ]
  },
  {
   "cell_type": "code",
   "execution_count": 19,
   "metadata": {},
   "outputs": [],
   "source": [
    "price = np.zeros(N)\n",
    "std_payoff = np.zeros(N)\n",
    "for i in range(N):\n",
    "    price[i] = np.mean(payoff[0: i+1]) / ((1+r)**0.25) \n",
    "    std_payoff[i] = np.std(payoff[0: i+1])"
   ]
  },
  {
   "cell_type": "code",
   "execution_count": 20,
   "metadata": {},
   "outputs": [
    {
     "data": {
      "text/plain": [
       "Text(0.5, 1.0, 'Estimated option price (95% CI)')"
      ]
     },
     "execution_count": 20,
     "metadata": {},
     "output_type": "execute_result"
    },
    {
     "data": {
      "image/png": "[encoded data removed]",
      "text/plain": [
       "<Figure size 432x288 with 1 Axes>"
      ]
     },
     "metadata": {
      "needs_background": "light"
     },
     "output_type": "display_data"
    }
   ],
   "source": [
    "plt.plot(paths, price)\n",
    "plt.title('Estimated option price (95% CI)') "
   ]
  },
  {
   "cell_type": "code",
   "execution_count": 22,
   "metadata": {},
   "outputs": [
    {
     "data": {
      "text/plain": [
       "Text(0.5, 1.0, 'Standard Erros')"
      ]
     },
     "execution_count": 22,
     "metadata": {},
     "output_type": "execute_result"
    },
    {
     "data": {
      "image/png": "[encoded data removed]",
      "text/plain": [
       "<Figure size 432x288 with 1 Axes>"
      ]
     },
     "metadata": {
      "needs_background": "light"
     },
     "output_type": "display_data"
    }
   ],
   "source": [
    "plt.plot(paths, std_payoff) \n",
    "plt.title('Standard Erros') "
   ]
  },
  {
   "cell_type": "markdown",
   "metadata": {},
   "source": [
    "I have chosen N = 50,000 here, but as what could be told from the plots, around n = 2,000, the price as well as the error connverge."
   ]
  }
 ],
 "metadata": {
  "kernelspec": {
   "display_name": "Python 3",
   "language": "python",
   "name": "python3"
  },
  "language_info": {
   "codemirror_mode": {
    "name": "ipython",
    "version": 3
   },
   "file_extension": ".py",
   "mimetype": "text/x-python",
   "name": "python",
   "nbconvert_exporter": "python",
   "pygments_lexer": "ipython3",
   "version": "3.7.3"
  }
 },
 "nbformat": 4,
 "nbformat_minor": 2
}

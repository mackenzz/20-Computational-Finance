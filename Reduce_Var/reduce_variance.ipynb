{
 "cells": [
  {
   "cell_type": "code",
   "execution_count": 35,
   "metadata": {},
   "outputs": [],
   "source": [
    "import numpy as np\n",
    "import scipy.stats"
   ]
  },
  {
   "cell_type": "markdown",
   "metadata": {},
   "source": [
    "### Question 1.(c)"
   ]
  },
  {
   "cell_type": "code",
   "execution_count": 36,
   "metadata": {},
   "outputs": [],
   "source": [
    "r = 0.01\n",
    "theta = 0.08\n",
    "kappa = 2\n",
    "beta = 0.2\n",
    "rho = -0.7\n",
    "Y0 = 0.04\n",
    "S0 = 50\n",
    "T = 0.25\n",
    "dt = 1 / (3*360)\n",
    "M = 270\n",
    "\n",
    "N = 4000  # simlulation number\n",
    "K = 50"
   ]
  },
  {
   "cell_type": "code",
   "execution_count": 37,
   "metadata": {},
   "outputs": [],
   "source": [
    "# Initialize S and Y\n",
    "S = np.zeros((M+1, N))\n",
    "Y = np.zeros((M+1, N))\n",
    "S_tilde = np.zeros((M+1, N))\n",
    "S[0] = S0\n",
    "Y[0] = Y0\n",
    "S_tilde[0] = S0"
   ]
  },
  {
   "cell_type": "code",
   "execution_count": 56,
   "metadata": {},
   "outputs": [
    {
     "name": "stdout",
     "output_type": "stream",
     "text": [
      "X_mean: 2.041007681375717\n",
      "EX_tilde: 2.249376242222059\n",
      "Price_control: 2.080102749999979\n"
     ]
    },
    {
     "data": {
      "text/plain": [
       "(2.041007681375717, 2.080102749999979)"
      ]
     },
     "execution_count": 56,
     "metadata": {},
     "output_type": "execute_result"
    }
   ],
   "source": [
    "ξ = np.random.normal(loc=0, scale=1, size=(M, N))\n",
    "η = np.random.normal(loc=0, scale=1, size=(M, N))\n",
    "\n",
    "def func():\n",
    "    ξ = np.random.normal(loc=0, scale=1, size=(M, N))\n",
    "    η = np.random.normal(loc=0, scale=1, size=(M, N))\n",
    "    for m in range(M):\n",
    "        Y[m+1,:] = Y[m,:] + (theta-kappa*Y[m,:])*dt + beta*np.sqrt(Y[m,:]) * \\\n",
    "                   np.sqrt(dt)*(rho*ξ[m,:] + np.sqrt(1-rho**2)*η[m,:])\n",
    "        S[m+1,:] = S[m,:] + S[m,:] * np.sqrt(Y[m,:])*np.sqrt(dt)*ξ[m,:] + S[m,:] * r*dt\n",
    "    \n",
    "        tmp1 = np.exp(-kappa*m*dt)-np.exp(-kappa*(m+1)*dt)\n",
    "        tmp2 = (r-theta/2)*dt - 1/(2*kappa) * (Y0-theta)*(tmp1) + \\\n",
    "               np.sqrt(theta*dt + (Y0-theta)/kappa*tmp1) * np.sqrt(dt)*ξ[m,:]\n",
    "        S_tilde[m+1,:] = S_tilde[m,:] * np.exp(tmp2)\n",
    "    X = np.exp(-r*T) * np.maximum(S[M,:]-K, 0)\n",
    "    X_tilde = np.exp(-r*T) * np.maximum(S_tilde[M,:]-K, 0)\n",
    "    sigma = np.sqrt(theta + (1/(kappa*T)) * (Y0-theta) * (1-np.exp(-kappa* T)))\n",
    "    X_mean = np.mean(X)\n",
    "    print(\"X_mean:\", X_mean)\n",
    "    \n",
    "    def BS(s, K, T, sigma, r):\n",
    "        '''BS model for European call'''\n",
    "        d1 = (np.log(s/K) -(r*sigma**2)*T/2) / (sigma*np.sqrt(T)) \n",
    "        d2 = d1 - sigma*np.sqrt(T)\n",
    "        return s * scipy.stats.norm.cdf(d1) - np.exp(-r*T)*K*scipy.stats.norm.cdf(d2)\n",
    "    \n",
    "    EX_tilde = BS(S0, K, T, sigma, r)\n",
    "    print(\"EX_tilde:\", EX_tilde)\n",
    "    b = np.sum((X - np.mean(X))*(X_tilde - EX_tilde)) / np.sum((X_tilde - EX_tilde)*(X_tilde - EX_tilde))\n",
    "    price_contr = np.sum(X-b*(X_tilde-EX_tilde)) / N\n",
    "    print(\"Price_control:\", price_contr)\n",
    "    return X_mean, price_contr\n",
    "func()"
   ]
  },
  {
   "cell_type": "markdown",
   "metadata": {},
   "source": [
    "### Question 1.(d)"
   ]
  },
  {
   "cell_type": "code",
   "execution_count": 39,
   "metadata": {},
   "outputs": [],
   "source": [
    "num_times = 5000\n",
    "P = []\n",
    "for i in range(num_times):\n",
    "    EX = func()\n",
    "    P.append(EX)\n",
    "P.sort()"
   ]
  },
  {
   "cell_type": "code",
   "execution_count": 47,
   "metadata": {},
   "outputs": [
    {
     "data": {
      "text/plain": [
       "(2.0443125001023112, 2.1690757737837156)"
      ]
     },
     "execution_count": 47,
     "metadata": {},
     "output_type": "execute_result"
    }
   ],
   "source": [
    "# variance of the two methods\n",
    "CI_95 = (P[int(num_times*.25)], P[int(num_times*.975)])\n",
    "CI_95"
   ]
  },
  {
   "cell_type": "code",
   "execution_count": 49,
   "metadata": {},
   "outputs": [
    {
     "name": "stdout",
     "output_type": "stream",
     "text": [
      "EX_tilde: 2.249376242222059\n"
     ]
    },
    {
     "data": {
      "text/plain": [
       "(2.0547681303101615, 2.0982017954876975)"
      ]
     },
     "execution_count": 49,
     "metadata": {},
     "output_type": "execute_result"
    }
   ],
   "source": [
    "# mean of the two methods\n",
    "X_mean, price_contr = func()\n",
    "X_mean, price_contr"
   ]
  },
  {
   "cell_type": "markdown",
   "metadata": {},
   "source": [
    "From the above we can know that the mean of the two methods are approximately the same (around 2.05),  \n",
    "but the variance of control variate method is much smaller. "
   ]
  },
  {
   "cell_type": "code",
   "execution_count": null,
   "metadata": {},
   "outputs": [],
   "source": []
  }
 ],
 "metadata": {
  "kernelspec": {
   "display_name": "Python 3",
   "language": "python",
   "name": "python3"
  },
  "language_info": {
   "codemirror_mode": {
    "name": "ipython",
    "version": 3
   },
   "file_extension": ".py",
   "mimetype": "text/x-python",
   "name": "python",
   "nbconvert_exporter": "python",
   "pygments_lexer": "ipython3",
   "version": "3.7.3"
  }
 },
 "nbformat": 4,
 "nbformat_minor": 2
}
